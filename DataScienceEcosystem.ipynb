{
 "cells": [
  {
   "cell_type": "markdown",
   "id": "d43136c1-cda4-4ef5-ade3-cc742ba4ccdf",
   "metadata": {},
   "source": [
    "# Data Science Tools and Ecosystem"
   ]
  },
  {
   "cell_type": "markdown",
   "id": "ef6c9c9f-a455-4c5b-aba0-7b7ccb0d6fb1",
   "metadata": {},
   "source": [
    "In this notebook, Data Science Tools and Ecosystem are summarized. \n"
   ]
  },
  {
   "cell_type": "markdown",
   "id": "0b1cafc7-9cae-45a2-aba5-4e789a852bc9",
   "metadata": {},
   "source": [
    "**Objectives:**\n",
    "- List of popular languages for Data Science\n",
    "- Common tools used in Data Science\n",
    "- Data Science libraries\n",
    "  "
   ]
  },
  {
   "cell_type": "markdown",
   "id": "45227052-e546-411b-9b91-cd8e2d472cf3",
   "metadata": {},
   "source": [
    "Some of the popular languages that Data Scientists use are:  \n",
    "1. Python  \n",
    "2. R  \n",
    "3. SQL  \n",
    "4. Julia  "
   ]
  },
  {
   "cell_type": "markdown",
   "id": "9927f377-fa39-424f-a0dd-28ac2be5b52a",
   "metadata": {},
   "source": [
    "Some of the commonly used libraries used by Data Scientists include:  \n",
    "1. NumPy  \n",
    "2. Pandas  \n",
    "3. Matplotlib  \n",
    "4. Scikit-learn  "
   ]
  },
  {
   "cell_type": "markdown",
   "id": "11cabc48-8ac9-489e-980e-ec134d211e1a",
   "metadata": {},
   "source": [
    "| Data Science Tools        |  \n",
    "|---------------------------|  \n",
    "| Jupyter Notebook          |  \n",
    "| RStudio                   |  \n",
    "| Apache Zeppelin           |  \n"
   ]
  },
  {
   "cell_type": "markdown",
   "id": "071d3b98-5680-4115-90ef-243257afbd72",
   "metadata": {},
   "source": [
    "### Below are a few examples of evaluating arithmetic expressions in Python"
   ]
  },
  {
   "cell_type": "code",
   "execution_count": 3,
   "id": "357276c1-a688-4299-a54a-3a70af25d74c",
   "metadata": {},
   "outputs": [
    {
     "name": "stdout",
     "output_type": "stream",
     "text": [
      "17\n"
     ]
    }
   ],
   "source": [
    "#This a simple arithmetic expression to mutiply then add integers\n",
    "result = (3*4)+5\n",
    "print(result)"
   ]
  },
  {
   "cell_type": "code",
   "execution_count": 7,
   "id": "b1349193-547e-47af-af85-0bf9954bcd3f",
   "metadata": {},
   "outputs": [
    {
     "name": "stdout",
     "output_type": "stream",
     "text": [
      "3.3333333333333335\n"
     ]
    }
   ],
   "source": [
    " #This will convert 200 minutes to hours by diving by 60\n",
    "total_number_of_minutes=200\n",
    "minutes_to_hours= 200/60\n",
    "print(minutes_to_hours)"
   ]
  },
  {
   "cell_type": "markdown",
   "id": "b2c4f033-c8a4-4fe0-93eb-5c6a7d944491",
   "metadata": {},
   "source": [
    "## Author\n",
    "Mebrahtom Beraki"
   ]
  },
  {
   "cell_type": "code",
   "execution_count": null,
   "id": "af4b0be6-f4ed-489e-b564-5fe1a3c67b24",
   "metadata": {},
   "outputs": [],
   "source": []
  },
  {
   "cell_type": "code",
   "execution_count": null,
   "id": "7b0a558e-2804-4530-95a1-8cebb933a33a",
   "metadata": {},
   "outputs": [],
   "source": []
  },
  {
   "cell_type": "code",
   "execution_count": null,
   "id": "6b266e43-0af1-48a2-89cb-2d5dd7edba5a",
   "metadata": {},
   "outputs": [],
   "source": []
  }
 ],
 "metadata": {
  "kernelspec": {
   "display_name": "Python 3 (ipykernel)",
   "language": "python",
   "name": "python3"
  },
  "language_info": {
   "codemirror_mode": {
    "name": "ipython",
    "version": 3
   },
   "file_extension": ".py",
   "mimetype": "text/x-python",
   "name": "python",
   "nbconvert_exporter": "python",
   "pygments_lexer": "ipython3",
   "version": "3.11.9"
  }
 },
 "nbformat": 4,
 "nbformat_minor": 5
}
